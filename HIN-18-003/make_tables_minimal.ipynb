{
 "cells": [
  {
   "cell_type": "code",
   "execution_count": 1,
   "metadata": {},
   "outputs": [
    {
     "name": "stdout",
     "output_type": "stream",
     "text": [
      "Welcome to JupyROOT 6.22/06\n"
     ]
    }
   ],
   "source": [
    "from hepdata_lib import Submission, Table, Variable, Uncertainty\n",
    "import numpy as np\n",
    "submission = Submission()"
   ]
  },
  {
   "cell_type": "code",
   "execution_count": 2,
   "metadata": {},
   "outputs": [],
   "source": [
    "table = Table(\"Example table\")\n",
    "\n",
    "data = np.loadtxt(\"inputs/dump_mass.txt\", skiprows=3)\n",
    "\n",
    "d = Variable(\"mass\", is_independent=True, is_binned=True, units=\"GeV\")\n",
    "d.values = data[:,0:2]\n",
    "\n",
    "dsigma = Variable(\"Cross section\", is_independent=False, is_binned=False, units=\"nb\")\n",
    "dsigma.values = data[:,2]\n",
    "\n",
    "unc = Uncertainty('Total')\n",
    "\n",
    "## this works only in python2\n",
    "#unc.values = data[:,3]\n",
    "## this works in both python2 and python3\n",
    "unc.values = [float(x) for x in data[:,3]]\n",
    "\n",
    "dsigma.add_uncertainty(unc)\n",
    "\n",
    "table.add_variable(d)\n",
    "table.add_variable(dsigma)\n",
    "\n",
    "submission.add_table(table)"
   ]
  },
  {
   "cell_type": "code",
   "execution_count": 3,
   "metadata": {},
   "outputs": [],
   "source": [
    "outdir = \"output_example\"\n",
    "submission.create_files(outdir)"
   ]
  }
 ],
 "metadata": {
  "kernelspec": {
   "display_name": "Python 3",
   "language": "python",
   "name": "python3"
  },
  "language_info": {
   "codemirror_mode": {
    "name": "ipython",
    "version": 3
   },
   "file_extension": ".py",
   "mimetype": "text/x-python",
   "name": "python",
   "nbconvert_exporter": "python",
   "pygments_lexer": "ipython3",
   "version": "3.8.6"
  }
 },
 "nbformat": 4,
 "nbformat_minor": 2
}
