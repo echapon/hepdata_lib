{
 "cells": [
  {
   "cell_type": "markdown",
   "metadata": {},
   "source": [
    "# Getting started with hepdata_lib\n",
    "\n",
    "The following instructions and examples should get you started to get your analysis into [HEPData](https://hepdata.net) using `hepdata_lib`. Please also refer to the [documentation](http://hepdata-lib.readthedocs.io/). While you can also run `hepdata_lib` on your local computer, you can use the [binder](https://mybinder.org/) or [SWAN](http://swan.cern.ch/) services in the browser. Mind that SWAN is only available for people with a CERN account.\n",
    "\n",
    "## SWAN-specific instructions\n",
    "\n",
    "For SWAN, if you haven't done so already, open up a new terminal (going back to the project tab and clicking the terminal icon in the top right), and enter the following to install `hepdata_lib`:\n",
    "```\n",
    "pip install --user hepdata_lib\n",
    "```\n",
    "Then go back to the notebook."
   ]
  },
  {
   "cell_type": "markdown",
   "metadata": {},
   "source": [
    "## General setup\n",
    "\n",
    "To make sure things are working and `hepdata_lib` is available, run the following command:"
   ]
  },
  {
   "cell_type": "code",
   "execution_count": 1,
   "metadata": {},
   "outputs": [
    {
     "name": "stdout",
     "output_type": "stream",
     "text": [
      "Welcome to JupyROOT 6.22/06\n"
     ]
    }
   ],
   "source": [
    "import hepdata_lib"
   ]
  },
  {
   "cell_type": "markdown",
   "metadata": {},
   "source": [
    "## Creating the HEPData submission for HIN-18-003\n",
    "\n",
    "The `Submission` object represents the whole HEPData entry and thus carries the top-level meta data that is equally valid for all the tables and variables you may want to enter. The object is also used to create the physical submission files you will upload to the HEPData web interface.\n",
    "\n",
    "When using `hepdata_lib` to make an entry, you always need to create a `Submission` object. Let's do that now, and then add data to it step by step:"
   ]
  },
  {
   "cell_type": "code",
   "execution_count": 2,
   "metadata": {},
   "outputs": [],
   "source": [
    "from hepdata_lib import Submission, Table, Variable, Uncertainty\n",
    "import numpy as np\n",
    "submission = Submission()"
   ]
  },
  {
   "cell_type": "markdown",
   "metadata": {},
   "source": [
    "In general, a `Submission` should contain details on the actual analysis such as it's abstract as well as links to the actual publication. The abstract should be in a plain text file. For `inspire` there's a special `record_id`, while for links to `arXiv` etc. one should use plain hyperlinks."
   ]
  },
  {
   "cell_type": "code",
   "execution_count": 3,
   "metadata": {},
   "outputs": [],
   "source": [
    "# we will let HepData take the abstract from Inspire\n",
    "#submission.read_abstract(\"inputs/abstract.txt\")\n",
    "\n",
    "submission.add_link(\"Webpage with all figures and tables\", \"http://cms-results.web.cern.ch/cms-results/public-results/publications/HIN-18-003/\")\n",
    "submission.add_link(\"arXiv\", \"http://arxiv.org/abs/2102.13648\")\n",
    "submission.add_record_id(1849180, \"inspire\")"
   ]
  },
  {
   "cell_type": "markdown",
   "metadata": {},
   "source": [
    "## Tables for Figs 5-6 (fiducial cross section, no acceptance)"
   ]
  },
  {
   "cell_type": "code",
   "execution_count": 4,
   "metadata": {},
   "outputs": [],
   "source": [
    "# inputs for Figs 5-6\n",
    "inputs_xsec_noacc = [\n",
    "    \"inputs/dump_noacc_mass.txt\",\n",
    "    \"inputs/dump_noacc_rap1560.txt\",\n",
    "    \"inputs/dump_noacc_rap60120.txt\",\n",
    "    \"inputs/dump_noacc_pt1560.txt\",\n",
    "    \"inputs/dump_noacc_pt.txt\",\n",
    "    \"inputs/dump_noacc_phistar1560.txt\",\n",
    "    \"inputs/dump_noacc_phistar.txt\"\n",
    "]\n",
    "vars_hepdata = [\n",
    "    \"M\",\n",
    "    \"RAP\",\n",
    "    \"RAP\",\n",
    "    \"PT\",\n",
    "    \"PT\",\n",
    "    \"PHISTAR\",\n",
    "    \"PHISTAR\"\n",
    "]\n",
    "vars_long = [\n",
    "    \"mass\",\n",
    "    \"rapidity\",\n",
    "    \"rapidity\",\n",
    "    \"pt\",\n",
    "    \"pt\",\n",
    "    \"phistar\",\n",
    "    \"phistar\"\n",
    "]\n",
    "vars_units = [\n",
    "    \"GeV\",\n",
    "    \"\",\n",
    "    \"\",\n",
    "    \"GeV\",\n",
    "    \"GeV\",\n",
    "    \"\",\n",
    "    \"\"\n",
    "]\n",
    "image_nb = [5, 5, 5, 6, 6, 6, 6]\n",
    "image_lett = ['a', 'b', 'c', 'a', 'b', 'c', 'd']\n",
    "legend = [\n",
    "    \"dimuon invariant mass\",\n",
    "    \"rapidity in the centre-of-mass frame for $15<m_{\\mu\\mu}<60$ GeV\",\n",
    "    \"rapidity in the centre-of-mass frame for $60<m_{\\mu\\mu}<120$ GeV\",\n",
    "    \"$p_{\\textrm{T}}$ for $15<m_{\\mu\\mu}<60$ GeV\",\n",
    "    \"$p_{\\textrm{T}}$ for $60<m_{\\mu\\mu}<120$ GeV\",\n",
    "    \"$\\phi^*$ for $15<m_{\\mu\\mu}<60$ GeV\",\n",
    "    \"$\\phi^*$ for $60<m_{\\mu\\mu}<120$ GeV\"\n",
    "]"
   ]
  },
  {
   "cell_type": "code",
   "execution_count": 5,
   "metadata": {},
   "outputs": [],
   "source": [
    "def is_symmetric(unc1, unc2):\n",
    "    \"\"\"\n",
    "    Is the uncertainty symmetric? \n",
    "    An uncertainty will be said to be symmetric if unc1 and unc2 differ by less than 1% for all entries.\n",
    "    \"\"\"\n",
    "    for u1, u2 in zip(unc1, unc2):\n",
    "        diff = 2.*(u1-u2)/(u1+u2)\n",
    "        if diff>0.01:\n",
    "            return False\n",
    "    return True"
   ]
  },
  {
   "cell_type": "code",
   "execution_count": 6,
   "metadata": {},
   "outputs": [],
   "source": [
    "# a global index for the table numbers\n",
    "glb_idx = 1\n",
    "\n",
    "for i in range(len(inputs_xsec_noacc)):\n",
    "    table = Table(\"Table \" + str(glb_idx))\n",
    "    table.description = \"Differential fiducial cross section (without the acceptance correction) for the DY process measured in the muon channel, as a function of \" + legend[i] + \". The quoted error is the quadratic sum of the statistical and systematic uncertainties.\"\n",
    "    table.location = \"Figure \" + str(image_nb[i]) + \" \" + image_lett[i]\n",
    "    table.keywords[\"observables\"] = [\"DSIG / D\" + vars_hepdata[i], \"NB\"]\n",
    "    table.keywords[\"reactions\"] = [\"P PB --> Z0 <MU+ MU-> X, P PB --> GAMMA* <MU+ MU-> X\"]\n",
    "    \n",
    "    data = np.loadtxt(inputs_xsec_noacc[i], skiprows=3)\n",
    "    \n",
    "    d = Variable(vars_long[i], is_independent=True, is_binned=True, units=vars_units[i])\n",
    "    d.values = data[:,0:2]\n",
    "    \n",
    "    dsigma = Variable(\"Cross section\", is_independent=False, is_binned=False, units=\"nb\")\n",
    "    dsigma.values = data[:,2]\n",
    "    dsigma.add_qualifier(\"Cross section\", \"bla\")\n",
    "    dsigma.add_qualifier(\"SQRT(S)/NUCLEON\", 8160, \"GeV\")\n",
    "    \n",
    "    sym = is_symmetric(data[:,3], data[:,4])\n",
    "    if sym:\n",
    "        unc = Uncertainty('Total')\n",
    "        unc.values = [x for x in data[:,3]]\n",
    "        dsigma.add_uncertainty(unc)\n",
    "    else:\n",
    "        unc = Uncertainty('Total', is_symmetric=False)\n",
    "        print(\"Uncertainties for\",inputs_xsec_noacc[i],\"are asymmetric!\")\n",
    "        unc.values = [(x, y) for (x, y) in data[:,3:5]]\n",
    "        dsigma.add_uncertainty(unc)\n",
    "    \n",
    "    table.add_variable(d)\n",
    "    table.add_variable(dsigma)\n",
    "    table.add_image(\"inputs/Figure_00\"+str(image_nb[i])+\"-\"+image_lett[i]+\".pdf\")\n",
    "    \n",
    "    submission.add_table(table)\n",
    "    \n",
    "    glb_idx = glb_idx+1"
   ]
  },
  {
   "cell_type": "markdown",
   "metadata": {},
   "source": [
    "Once you've added all tables/figures and the general submission details, you should add a few more keywords to all tables for better identification and searchability, e.g. the centre-of-mass energy:"
   ]
  },
  {
   "cell_type": "code",
   "execution_count": 7,
   "metadata": {},
   "outputs": [],
   "source": [
    "for table in submission.tables:\n",
    "    table.keywords[\"cmenergies\"] = [8160]"
   ]
  },
  {
   "cell_type": "markdown",
   "metadata": {},
   "source": [
    "Now it's time to create the submission for the upload. Here, we choose `example_output` as output directory:"
   ]
  },
  {
   "cell_type": "code",
   "execution_count": 8,
   "metadata": {},
   "outputs": [],
   "source": [
    "outdir = \"output\"\n",
    "submission.create_files(outdir)"
   ]
  },
  {
   "cell_type": "markdown",
   "metadata": {},
   "source": [
    "In the working directory, you will now find a `submission.tar.gz` file, which you can use for uploading to your HEPData sandbox:"
   ]
  },
  {
   "cell_type": "code",
   "execution_count": 9,
   "metadata": {},
   "outputs": [
    {
     "name": "stdout",
     "output_type": "stream",
     "text": [
      "submission.tar.gz\r\n"
     ]
    }
   ],
   "source": [
    "!ls submission.tar.gz"
   ]
  },
  {
   "cell_type": "markdown",
   "metadata": {},
   "source": [
    "And the `example_output` directory will contain the generated `yaml` files:"
   ]
  },
  {
   "cell_type": "code",
   "execution_count": 10,
   "metadata": {},
   "outputs": [
    {
     "name": "stdout",
     "output_type": "stream",
     "text": [
      "Figure_005-a.png  table_1.yaml\t\t  thumb_Figure_005-b.png\r\n",
      "Figure_005-b.png  table_2.yaml\t\t  thumb_Figure_005-c.png\r\n",
      "Figure_005-c.png  table_3.yaml\t\t  thumb_Figure_006-a.png\r\n",
      "Figure_006-a.png  table_4.yaml\t\t  thumb_Figure_006-b.png\r\n",
      "Figure_006-b.png  table_5.yaml\t\t  thumb_Figure_006-c.png\r\n",
      "Figure_006-c.png  table_6.yaml\t\t  thumb_Figure_006-d.png\r\n",
      "Figure_006-d.png  table_7.yaml\r\n",
      "submission.yaml   thumb_Figure_005-a.png\r\n"
     ]
    }
   ],
   "source": [
    "!ls output"
   ]
  },
  {
   "cell_type": "code",
   "execution_count": 11,
   "metadata": {},
   "outputs": [
    {
     "name": "stdout",
     "output_type": "stream",
     "text": [
      "Help on class Variable in module hepdata_lib:\n",
      "\n",
      "class Variable(builtins.object)\n",
      " |  Variable(name, is_independent=True, is_binned=True, units='', values=None)\n",
      " |  \n",
      " |  A Variable is a wrapper for a list of values + some meta data.\n",
      " |  \n",
      " |  Methods defined here:\n",
      " |  \n",
      " |  __init__(self, name, is_independent=True, is_binned=True, units='', values=None)\n",
      " |      Initialize self.  See help(type(self)) for accurate signature.\n",
      " |  \n",
      " |  add_qualifier(self, name, value, units='')\n",
      " |      Add a qualifier.\n",
      " |  \n",
      " |  add_uncertainty(self, uncertainty)\n",
      " |      Add an uncertainty.\n",
      " |      \n",
      " |      If the Variable object already has values assigned to it,\n",
      " |      it is required that the value list of the Uncertainty object\n",
      " |      has the same length as the list of Variable values.\n",
      " |      \n",
      " |      If the list of values of the Variable is empty, no requirement\n",
      " |      is applied on the length of the list of Uncertainty values.\n",
      " |  \n",
      " |  make_dict(self)\n",
      " |      Return all data in this Variable as a dictionary.\n",
      " |      \n",
      " |      The dictionary structure follows the hepdata conventions,\n",
      " |      so that dumping this dictionary to YAML will give a file\n",
      " |      that hepdata can read.\n",
      " |      \n",
      " |      Uncertainties associated to this Variable are also written into\n",
      " |      the dictionary.\n",
      " |      \n",
      " |      This function is intended to be called internally by the Submission object.\n",
      " |      Except for debugging purposes, no user should have to call this function.\n",
      " |  \n",
      " |  scale_values(self, factor)\n",
      " |      Multiply each value by constant factor. Also applies to uncertainties.\n",
      " |  \n",
      " |  ----------------------------------------------------------------------\n",
      " |  Data descriptors defined here:\n",
      " |  \n",
      " |  __dict__\n",
      " |      dictionary for instance variables (if defined)\n",
      " |  \n",
      " |  __weakref__\n",
      " |      list of weak references to the object (if defined)\n",
      " |  \n",
      " |  values\n",
      " |      Value getter.\n",
      "\n"
     ]
    }
   ],
   "source": [
    "help(Variable)"
   ]
  },
  {
   "cell_type": "code",
   "execution_count": null,
   "metadata": {},
   "outputs": [],
   "source": []
  }
 ],
 "metadata": {
  "kernelspec": {
   "display_name": "Python 3",
   "language": "python",
   "name": "python3"
  },
  "language_info": {
   "codemirror_mode": {
    "name": "ipython",
    "version": 3
   },
   "file_extension": ".py",
   "mimetype": "text/x-python",
   "name": "python",
   "nbconvert_exporter": "python",
   "pygments_lexer": "ipython3",
   "version": "3.8.6"
  }
 },
 "nbformat": 4,
 "nbformat_minor": 2
}
